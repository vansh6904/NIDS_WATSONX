{
  "nbformat": 4,
  "nbformat_minor": 0,
  "metadata": {
    "colab": {
      "provenance": []
    },
    "kernelspec": {
      "name": "python3",
      "display_name": "Python 3"
    },
    "language_info": {
      "name": "python"
    }
  },
  "cells": [
    {
      "cell_type": "code",
      "execution_count": null,
      "metadata": {
        "colab": {
          "base_uri": "https://localhost:8080/"
        },
        "id": "CcWpycrXeL8T",
        "outputId": "dce6a15c-caf9-4a39-98c1-7053ba7c6daa"
      },
      "outputs": [
        {
          "output_type": "stream",
          "name": "stdout",
          "text": [
            "🔮 Prediction Result:\n",
            "{\n",
            "  \"predictions\": [\n",
            "    {\n",
            "      \"fields\": [\n",
            "        \"prediction\",\n",
            "        \"probability\"\n",
            "      ],\n",
            "      \"values\": [\n",
            "        [\n",
            "          \"normal\",\n",
            "          [\n",
            "            0.0,\n",
            "            1.0\n",
            "          ]\n",
            "        ]\n",
            "      ]\n",
            "    }\n",
            "  ]\n",
            "}\n"
          ]
        }
      ],
      "source": [
        "import requests\n",
        "import json\n",
        "\n",
        "# IBM Watson ML credentials\n",
        "API_KEY = \"\"\n",
        "DEPLOYMENT_ENDPOINT = \"\"\n",
        "\n",
        "# Get the IAM token\n",
        "token_response = requests.post(\n",
        "    \"https://iam.cloud.ibm.com/identity/token\",\n",
        "    data={\"apikey\": API_KEY, \"grant_type\": \"urn:ibm:params:oauth:grant-type:apikey\"},\n",
        "    headers={\"Content-Type\": \"application/x-www-form-urlencoded\"}\n",
        ")\n",
        "iam_token = token_response.json()[\"access_token\"]\n",
        "# print(token_response.status_code)\n",
        "# print(token_response.json())\n",
        "\n",
        "# Prepare the payload\n",
        "payload_scoring = {\n",
        "    \"input_data\": [{\n",
        "        \"fields\": [\"duration\", \"protocol_type\", \"service\", \"flag\", \"src_bytes\", \"dst_bytes\", \"land\", \"wrong_fragment\", \"urgent\", \"hot\", \"num_failed_logins\", \"logged_in\", \"num_compromised\", \"root_shell\", \"su_attempted\", \"num_root\", \"num_file_creations\", \"num_shells\", \"num_access_files\", \"num_outbound_cmds\", \"is_host_login\", \"is_guest_login\", \"count\", \"srv_count\", \"serror_rate\", \"srv_serror_rate\", \"rerror_rate\", \"srv_rerror_rate\", \"same_srv_rate\", \"diff_srv_rate\", \"srv_diff_host_rate\", \"dst_host_count\", \"dst_host_srv_count\", \"dst_host_same_srv_rate\", \"dst_host_diff_srv_rate\", \"dst_host_same_src_port_rate\", \"dst_host_srv_diff_host_rate\", \"dst_host_serror_rate\", \"dst_host_srv_serror_rate\", \"dst_host_rerror_rate\", \"dst_host_srv_rerror_rate\"],\n",
        "        \"values\": [[0, \"tcp\", \"http\", \"SF\", 181, 5450, 0, 0, 0, 0, 0, 1, 0, 0, 0, 0, 0, 0, 0, 0, 0, 0, 9, 9, 0, 0, 0, 0, 1, 0, 0.11, 9, 9, 1.00, 0.00, 1.00, 0.00, 0.00, 0.00, 0.00, 0.00]]\n",
        "    }]\n",
        "}\n",
        "\n",
        "# Send the request\n",
        "response = requests.post(\n",
        "    DEPLOYMENT_ENDPOINT,\n",
        "    json=payload_scoring,\n",
        "    headers={\n",
        "        \"Content-Type\": \"application/json\",\n",
        "        \"Authorization\": f\"Bearer {iam_token}\"\n",
        "    }\n",
        ")\n",
        "\n",
        "# Print the result\n",
        "print(\"🔮 Prediction Result:\")\n",
        "print(json.dumps(response.json(), indent=2))\n"
      ]
    }
  ]
}